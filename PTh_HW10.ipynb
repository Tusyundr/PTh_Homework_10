{
  "cells": [
    {
      "cell_type": "code",
      "source": [
        "import numpy as np\n",
        "from scipy import stats"
      ],
      "metadata": {
        "id": "iyjsm8hEElXG"
      },
      "execution_count": 1,
      "outputs": []
    },
    {
      "cell_type": "markdown",
      "source": [
        "# Задача 1"
      ],
      "metadata": {
        "collapsed": false,
        "id": "GDbg025wD3Xc"
      }
    },
    {
      "cell_type": "markdown",
      "source": [
        "_Провести дисперсионный анализ для определения того, есть ли различия среднего роста среди взрослых футболистов, хоккеистов и штангистов.\n",
        "Даны значения роста в трех группах случайно выбранных спортсменов:_\n",
        "\n",
        "_Футболисты:_ **173, 175, 180, 178, 177, 185, 183, 182.**\n",
        "\n",
        "_Хоккеисты:_ **177, 179, 180, 188, 177, 172, 171, 184, 180.**\n",
        "\n",
        "_Штангисты:_ **172, 173, 169, 177, 166, 180, 178, 177, 172, 166, 170.**_"
      ],
      "metadata": {
        "collapsed": false,
        "id": "sptEdj8tD3Xh"
      }
    },
    {
      "cell_type": "code",
      "execution_count": 10,
      "outputs": [],
      "source": [
        "fb_height = np.array([173, 175, 180, 178, 177, 185, 183, 182])\n",
        "hp_height = np.array([177, 179, 180, 188, 177, 172, 171, 184, 180])\n",
        "wl_height = np.array([172, 173, 169, 177, 166, 180, 178, 177, 172, 166, 170])"
      ],
      "metadata": {
        "id": "4aXnsuZyD3Xi"
      }
    },
    {
      "cell_type": "code",
      "execution_count": 23,
      "outputs": [],
      "source": [
        "alpha = 0.05"
      ],
      "metadata": {
        "id": "MIkIEKMvD3Xi"
      }
    },
    {
      "cell_type": "markdown",
      "source": [
        "#### Выполним проверку данных на нормальность распределения:"
      ],
      "metadata": {
        "collapsed": false,
        "id": "J7j-wfnID3Xj"
      }
    },
    {
      "cell_type": "code",
      "execution_count": 11,
      "outputs": [
        {
          "output_type": "stream",
          "name": "stdout",
          "text": [
            "Футболисты: stat_fb = 0.978, p_val_fb = 0.950\n",
            "Хоккеисты: stat_hp = 0.958, p_val_hp = 0.776\n",
            "Штангисты: stat_wl = 0.939, p_val_wl = 0.505\n"
          ]
        }
      ],
      "source": [
        "stat_fb, p_val_fb = stats.shapiro(fb_height)\n",
        "print(f'Футболисты: stat_fb = {stat_fb:.3f}, p_val_fb = {p_val_fb:.3f}')\n",
        "stat_hp, p_val_hp = stats.shapiro(hp_height)\n",
        "print(f'Хоккеисты: stat_hp = {stat_hp:.3f}, p_val_hp = {p_val_hp:.3f}')\n",
        "stat_wl, p_val_wl = stats.shapiro(wl_height)\n",
        "print(f'Штангисты: stat_wl = {stat_wl:.3f}, p_val_wl = {p_val_wl:.3f}')"
      ],
      "metadata": {
        "colab": {
          "base_uri": "https://localhost:8080/"
        },
        "id": "Grxa-JTdD3Xj",
        "outputId": "9e3c6705-b40d-43fb-ee19-16d61a960f89"
      }
    },
    {
      "cell_type": "code",
      "execution_count": 12,
      "outputs": [
        {
          "output_type": "stream",
          "name": "stdout",
          "text": [
            "Футболисты: (0.950 > 0.05) == True\n",
            "Хоккеисты: (0.776 > 0.05) == True\n",
            "Штангисты: (0.505 > 0.05) == True\n"
          ]
        }
      ],
      "source": [
        "print(f'Футболисты: ({p_val_fb:.3f} > {alpha}) == {p_val_fb > alpha}\\n'\n",
        "      f'Хоккеисты: ({p_val_hp:.3f} > {alpha}) == {p_val_hp > alpha}\\n'\n",
        "      f'Штангисты: ({p_val_wl:.3f} > {alpha}) == {p_val_wl > alpha}')"
      ],
      "metadata": {
        "colab": {
          "base_uri": "https://localhost:8080/"
        },
        "id": "3vC0Mu-4D3Xk",
        "outputId": "19376403-0130-4c23-9287-37ec136b456d"
      }
    },
    {
      "cell_type": "markdown",
      "source": [
        "**pvalue** для каждой выборки больше $\\alpha = 0.05$. Данные выборок имеют **нормальное распределение**."
      ],
      "metadata": {
        "id": "OWibAoqOF9Yb"
      }
    },
    {
      "cell_type": "markdown",
      "source": [
        "#### Выполним проверку равенства дисперсий:"
      ],
      "metadata": {
        "collapsed": false,
        "id": "7qcgxKuCD3Xn"
      }
    },
    {
      "cell_type": "code",
      "execution_count": 13,
      "outputs": [
        {
          "output_type": "stream",
          "name": "stdout",
          "text": [
            "stat_sportsmen = 0.464, p_val_sportsmen = 0.793\n"
          ]
        }
      ],
      "source": [
        "stat_sportsmen, p_val_sportsmen = stats.bartlett(fb_height, hp_height, wl_height)\n",
        "print(f'stat_sportsmen = {stat_sportsmen:.3f}, p_val_sportsmen = {p_val_sportsmen:.3f}')"
      ],
      "metadata": {
        "colab": {
          "base_uri": "https://localhost:8080/"
        },
        "id": "eUVpiQ9uD3Xn",
        "outputId": "de5b5c72-5110-4fc4-cdc6-63881a1025f0"
      }
    },
    {
      "cell_type": "markdown",
      "source": [
        "**pvalue** больше $\\alpha = 0.05$. **Дисперсии равны**."
      ],
      "metadata": {
        "id": "mRkQMj6pGmI3"
      }
    },
    {
      "cell_type": "markdown",
      "source": [
        "#### Однофакторный дисперсионный анализ:"
      ],
      "metadata": {
        "collapsed": false,
        "id": "WeAEapQpD3Xp"
      }
    },
    {
      "cell_type": "markdown",
      "source": [
        "Формулировка гипотез:\n",
        "\n",
        "$H0:\\mu_{1}=\\mu_{2}=\\mu_{3}$    - Футболисты, хоккеисты и штангисты **не имеют** существенных различий в росте.\n",
        "\n",
        "$H1:\\mu_{1}\\neq\\mu_{2}\\neq\\mu_{3}$    -  Футболисты, хоккеисты и штангисты **имеют** существенные различия в росте."
      ],
      "metadata": {
        "collapsed": false,
        "id": "wSrcwuHxD3Xp"
      }
    },
    {
      "cell_type": "code",
      "execution_count": 14,
      "outputs": [
        {
          "output_type": "stream",
          "name": "stdout",
          "text": [
            "Средний рост спортсменов: stat_ha = 5.50005, p_val_ha = 0.01048\n"
          ]
        }
      ],
      "source": [
        "stat_ha, p_val_ha = stats.f_oneway(fb_height, hp_height, wl_height)\n",
        "print(f'Средний рост спортсменов: stat_ha = {stat_ha:.5f}, p_val_ha = {p_val_ha:.5f}')"
      ],
      "metadata": {
        "colab": {
          "base_uri": "https://localhost:8080/"
        },
        "id": "Ors9K7KVD3Xp",
        "outputId": "92874b98-9cce-41e3-8bfb-10e37d7d1fb7"
      }
    },
    {
      "cell_type": "markdown",
      "source": [
        "Получили значение $pvalue = 0.01048$ на уровне статистической значимости $\\alpha = 0.05$.\n",
        "\n",
        "**pvalue** больше $\\alpha = 0.05$. Нулевая гипотеза **отвергается**.\n",
        "\n",
        "Футболисты, хоккеисты и штангисты имеют существенные различия в росте.\n",
        "\n"
      ],
      "metadata": {
        "collapsed": false,
        "id": "HPPyRGT7D3Xq"
      }
    },
    {
      "cell_type": "markdown",
      "source": [
        "####Посчитаем **вручную**:"
      ],
      "metadata": {
        "id": "QhmHh6aOJk_x"
      }
    },
    {
      "cell_type": "code",
      "source": [
        "n1 = fb_height.shape[0]\n",
        "n2 = hp_height.shape[0]\n",
        "n3 = wl_height.shape[0]"
      ],
      "metadata": {
        "id": "YtLqtRX9JxMN"
      },
      "execution_count": 15,
      "outputs": []
    },
    {
      "cell_type": "code",
      "source": [
        "fb_mean = fb_height.mean()\n",
        "hp_mean = hp_height.mean()\n",
        "wl_mean = wl_height.mean()"
      ],
      "metadata": {
        "id": "BUbpx_uDJ5yK"
      },
      "execution_count": 16,
      "outputs": []
    },
    {
      "cell_type": "code",
      "source": [
        "print(f\"Среднее значение роста футболистов = {fb_mean:.2f}\")\n",
        "print(f\"Среднее значение роста хоккеистов = {hp_mean:.2f}\")\n",
        "print(f\"Среднее значение роста штангистов = {wl_mean:.2f}\")"
      ],
      "metadata": {
        "colab": {
          "base_uri": "https://localhost:8080/"
        },
        "id": "OMH0P_tRJ6or",
        "outputId": "e5cf13c2-cbf0-4d4b-e20f-fce3404f1f01"
      },
      "execution_count": 17,
      "outputs": [
        {
          "output_type": "stream",
          "name": "stdout",
          "text": [
            "Среднее значение роста футболистов = 179.12\n",
            "Среднее значение роста хоккеистов = 178.67\n",
            "Среднее значение роста штангистов = 172.73\n"
          ]
        }
      ]
    },
    {
      "cell_type": "code",
      "source": [
        "y = np.concatenate([fb_height, hp_height, wl_height])\n",
        "y_mean = y.mean()\n",
        "print(f\"Среднее значение роста  всех спортсменов = {y_mean:.2f}\")"
      ],
      "metadata": {
        "colab": {
          "base_uri": "https://localhost:8080/"
        },
        "id": "-3f5L-psKAD7",
        "outputId": "93cd4436-5405-495c-a1d5-1fb8d17284f2"
      },
      "execution_count": 18,
      "outputs": [
        {
          "output_type": "stream",
          "name": "stdout",
          "text": [
            "Среднее значение роста  всех спортсменов = 176.46\n"
          ]
        }
      ]
    },
    {
      "cell_type": "code",
      "source": [
        "S2_F = n1 * (fb_mean - y_mean) ** 2 + n2 * (hp_mean - y_mean) ** 2 + n3 * (wl_mean - y_mean) ** 2\n",
        "S2_res = ((fb_height - fb_mean) ** 2).sum() + ((hp_height - hp_mean) ** 2).sum() + ((wl_height - wl_mean) ** 2).sum()\n",
        "\n",
        "S2 = ((y - y_mean) ** 2).sum()\n",
        "print(f\" Sf^2 = {S2_F:.2f}\")\n",
        "print(f\" Sres^2 = {S2_res:.2f}\")\n",
        "print()\n",
        "print(f\" S^2 = Sf^2 + Sres^2\")\n",
        "print(f\"{S2:.2f} = {S2_F + S2_res:.2f}\")"
      ],
      "metadata": {
        "colab": {
          "base_uri": "https://localhost:8080/"
        },
        "id": "LtmoVzsCKFK6",
        "outputId": "d3cfa54f-f1c8-456c-e688-408c41ded1c7"
      },
      "execution_count": 19,
      "outputs": [
        {
          "output_type": "stream",
          "name": "stdout",
          "text": [
            " Sf^2 = 253.91\n",
            " Sres^2 = 577.06\n",
            "\n",
            " S^2 = Sf^2 + Sres^2\n",
            "830.96 = 830.96\n"
          ]
        }
      ]
    },
    {
      "cell_type": "code",
      "source": [
        "k = 3\n",
        "n = n1 + n2 + n3\n",
        "\n",
        "k1 = k - 1\n",
        "k2 = n - k\n",
        "\n",
        "sigma2_F = S2_F / k1\n",
        "sigma2_res = S2_res / k2\n",
        "\n",
        "print(f\"Факторная дисперсия = {sigma2_F:.2f}\")\n",
        "print(f\"Остаточная дисперсия = {sigma2_res:.2f}\")"
      ],
      "metadata": {
        "colab": {
          "base_uri": "https://localhost:8080/"
        },
        "id": "FGXiaNbPKKz7",
        "outputId": "63fe2325-208b-46be-9f21-1adc85a53e9a"
      },
      "execution_count": 20,
      "outputs": [
        {
          "output_type": "stream",
          "name": "stdout",
          "text": [
            "Факторная дисперсия = 126.95\n",
            "Остаточная дисперсия = 23.08\n"
          ]
        }
      ]
    },
    {
      "cell_type": "code",
      "source": [
        "T = sigma2_F / sigma2_res\n",
        "print(f\"Значение статистики = {T:.2f}\")"
      ],
      "metadata": {
        "colab": {
          "base_uri": "https://localhost:8080/"
        },
        "id": "JNQXfrNtKRfa",
        "outputId": "360d88e1-df48-4489-8f0b-4c9d471321ee"
      },
      "execution_count": 21,
      "outputs": [
        {
          "output_type": "stream",
          "name": "stdout",
          "text": [
            "Значение статистики = 5.50\n"
          ]
        }
      ]
    },
    {
      "cell_type": "code",
      "source": [
        "F_crit = stats.f.ppf(1 - alpha, k1, k2)\n",
        "print(f\"Критическое значение = {F_crit:.2f}\")"
      ],
      "metadata": {
        "colab": {
          "base_uri": "https://localhost:8080/"
        },
        "id": "MSEG2UtlKUTK",
        "outputId": "07e25d0e-f11a-4b33-adfa-cfb585edbe06"
      },
      "execution_count": 24,
      "outputs": [
        {
          "output_type": "stream",
          "name": "stdout",
          "text": [
            "Критическое значение = 3.39\n"
          ]
        }
      ]
    },
    {
      "cell_type": "markdown",
      "source": [
        "Так как **T > F_crit** делаем вывод, что различие среднего роста спортсменов является **статистически значимым**."
      ],
      "metadata": {
        "id": "Fqq4HGSDKofW"
      }
    }
  ],
  "metadata": {
    "kernelspec": {
      "display_name": "Python 3",
      "language": "python",
      "name": "python3"
    },
    "language_info": {
      "codemirror_mode": {
        "name": "ipython",
        "version": 2
      },
      "file_extension": ".py",
      "mimetype": "text/x-python",
      "name": "python",
      "nbconvert_exporter": "python",
      "pygments_lexer": "ipython2",
      "version": "2.7.6"
    },
    "colab": {
      "provenance": []
    }
  },
  "nbformat": 4,
  "nbformat_minor": 0
}